{
 "cells": [
  {
   "cell_type": "code",
   "execution_count": 1,
   "metadata": {},
   "outputs": [],
   "source": [
    "#Aristidis Chronarakis AM:389\n",
    "#Project2 \n",
    "#Exercise1B"
   ]
  },
  {
   "cell_type": "code",
   "execution_count": 2,
   "metadata": {},
   "outputs": [
    {
     "name": "stdout",
     "output_type": "stream",
     "text": [
      "(400, 10304)\n"
     ]
    }
   ],
   "source": [
    "#import faces\n",
    "import pandas\n",
    "import imageio\n",
    "from glob import iglob\n",
    "\n",
    "#load faces for training\n",
    "faces = pandas.DataFrame([])\n",
    "for path in iglob(\"att_faces/*/*.pgm\"):\n",
    "    image=imageio.imread(path)\n",
    "    face = pandas.Series(image.flatten(),name=path[10:-4])\n",
    "    faces = faces.append(face)\n",
    "print faces.shape"
   ]
  },
  {
   "cell_type": "code",
   "execution_count": 3,
   "metadata": {},
   "outputs": [],
   "source": [
    "#pca \n",
    "from sklearn.decomposition import PCA\n",
    "facesPCA = PCA(n_components=0.75)\n",
    "facesPCA.fit(faces)\n",
    "facesT = facesPCA.transform(faces)"
   ]
  },
  {
   "cell_type": "code",
   "execution_count": 4,
   "metadata": {},
   "outputs": [],
   "source": [
    "#k-means\n",
    "from sklearn.cluster import KMeans\n",
    "kmeans = KMeans(n_clusters=10, random_state=0).fit(facesT)\n",
    "labelsKmeans = kmeans.labels_\n",
    "#print labelsKmeans"
   ]
  },
  {
   "cell_type": "code",
   "execution_count": 5,
   "metadata": {},
   "outputs": [],
   "source": [
    "#gmm\n",
    "from sklearn.mixture import GaussianMixture\n",
    "gmm = GaussianMixture(n_components=10)\n",
    "labelsGmm = gmm.fit_predict(facesT)\n",
    "#print labelsGmm"
   ]
  },
  {
   "cell_type": "code",
   "execution_count": 8,
   "metadata": {},
   "outputs": [
    {
     "name": "stdout",
     "output_type": "stream",
     "text": [
      "('s37', 10)\n",
      "('s9', 10)\n",
      "('s26', 10)\n",
      "('s30', 10)\n",
      "('s19', 10)\n",
      "('s18', 10)\n",
      "('s22', 10)\n",
      "('s7', 10)\n",
      "('s8', 10)\n",
      "('s6', 10)\n",
      "100\n",
      "Purity = 0.25\n"
     ]
    }
   ],
   "source": [
    "#purity\n",
    "labels=labelsKmeans\n",
    "overallSum=0\n",
    "for clusterIndex in range(0,10):\n",
    "    freqDict={}\n",
    "    for i  in range(0,len(labels)):\n",
    "        if(labels[i]==clusterIndex):\n",
    "            faceId=(faces.iloc[int(i),:].name).split('\\\\')[0]\n",
    "            if faceId not in freqDict.keys():\n",
    "                freqDict[faceId]=1\n",
    "            else:\n",
    "                freqDict[faceId]+=1\n",
    "    maximum = max(freqDict, key=freqDict.get)  \n",
    "    print(maximum, freqDict[maximum])\n",
    "    overallSum += freqDict[maximum]\n",
    "print overallSum\n",
    "print \"Purity = \"+str(overallSum/400.0)"
   ]
  },
  {
   "cell_type": "code",
   "execution_count": null,
   "metadata": {},
   "outputs": [],
   "source": []
  }
 ],
 "metadata": {
  "kernelspec": {
   "display_name": "Python 2",
   "language": "python",
   "name": "python2"
  },
  "language_info": {
   "codemirror_mode": {
    "name": "ipython",
    "version": 2
   },
   "file_extension": ".py",
   "mimetype": "text/x-python",
   "name": "python",
   "nbconvert_exporter": "python",
   "pygments_lexer": "ipython2",
   "version": "2.7.15"
  }
 },
 "nbformat": 4,
 "nbformat_minor": 2
}
