{
 "cells": [
  {
   "cell_type": "code",
   "execution_count": null,
   "metadata": {},
   "outputs": [],
   "source": [
    "#Aristidis Chronarakis AM:389\n",
    "#Project2 \n",
    "#Exercise1A"
   ]
  },
  {
   "cell_type": "code",
   "execution_count": null,
   "metadata": {},
   "outputs": [],
   "source": [
    "#import faces\n",
    "import pandas\n",
    "import imageio\n",
    "from glob import iglob\n",
    "\n",
    "#load faces for training\n",
    "facesTrain = pandas.DataFrame([])\n",
    "for path in iglob(\"att_faces/*/[1-5].pgm\"):\n",
    "    image=imageio.imread(path)\n",
    "    faceTrain = pandas.Series(image.flatten(),name=path[10:-4])\n",
    "    facesTrain = facesTrain.append(faceTrain)\n",
    "print facesTrain.shape\n",
    "facesTest = pandas.DataFrame([])\n",
    "\n",
    "#load faces for testing\n",
    "for path in iglob(\"att_faces/*/[6-9].pgm\"):\n",
    "    image=imageio.imread(path) \n",
    "    faceTest = pandas.Series(image.flatten(),name=path[10:-4])\n",
    "    facesTest = facesTest.append(faceTest)\n",
    "print facesTest.shape\n",
    "for i in range(1,41):\n",
    "    path=\"att_faces/s\"+str(i)+\"/10.pgm\"\n",
    "    image=imageio.imread(path)\n",
    "    faceTest = pandas.Series(image.flatten(),name=path[10:-4])\n",
    "    facesTest = facesTest.append(faceTest)\n",
    "print facesTest.shape\n",
    "#print facesTest[facesTest.columns[0:]]\n",
    "#print facesTest.iloc[1,:].name\n",
    "#print facesTest\n"
   ]
  },
  {
   "cell_type": "code",
   "execution_count": null,
   "metadata": {},
   "outputs": [],
   "source": [
    "#plot faces of facesTrain\n",
    "import matplotlib.pyplot as plt\n",
    "figures, axes = plt.subplots(40,5,figsize=(100,100),gridspec_kw=dict(hspace=0.01, wspace=0.01))\n",
    "for i, axis in enumerate(axes.flat):\n",
    "    axis.imshow(facesTrain.iloc[i].values.reshape(112,92),cmap=\"gray\")"
   ]
  },
  {
   "cell_type": "code",
   "execution_count": null,
   "metadata": {},
   "outputs": [],
   "source": [
    "#pca & knn\n",
    "from sklearn.decomposition import PCA\n",
    "from sklearn import neighbors\n",
    "\n",
    "facesPCA = PCA(n_components=1)\n",
    "facesPCA.fit(facesTrain)\n",
    "TrainPCA = facesPCA.transform(facesTrain)\n",
    "TestPCA = facesPCA.transform(facesTest)\n",
    "\n",
    "#KNN = neighbors.NearestNeighbors(n_neighbors=1, metric='euclidean').fit(TrainPCA)\n",
    "KNN = neighbors.NearestNeighbors(n_neighbors=1, metric='cosine').fit(TrainPCA)\n",
    "distances, indices = KNN.kneighbors(TestPCA)\n",
    "\n",
    "\n",
    "for index in range(0,len(indices)):\n",
    "    faceElement=facesTest.iloc[index,:].name\n",
    "    print \"-----face:\"+str(faceElement)+\"-----\"\n",
    "    print \"K-neighbours list\"\n",
    "    for item in indices[index]:\n",
    "        print facesTest.iloc[int(item),:].name\n",
    "    print \"-------------------\""
   ]
  }
 ],
 "metadata": {
  "kernelspec": {
   "display_name": "Python 2",
   "language": "python",
   "name": "python2"
  },
  "language_info": {
   "codemirror_mode": {
    "name": "ipython",
    "version": 2
   },
   "file_extension": ".py",
   "mimetype": "text/x-python",
   "name": "python",
   "nbconvert_exporter": "python",
   "pygments_lexer": "ipython2",
   "version": "2.7.15"
  }
 },
 "nbformat": 4,
 "nbformat_minor": 2
}
