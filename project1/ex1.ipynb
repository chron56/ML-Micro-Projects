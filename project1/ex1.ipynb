{
 "cells": [
  {
   "cell_type": "code",
   "execution_count": null,
   "metadata": {},
   "outputs": [],
   "source": [
    "#Aristidis Chronarakis AM:389\n",
    "#Project1 \n",
    "#Exercise1\n"
   ]
  },
  {
   "cell_type": "code",
   "execution_count": null,
   "metadata": {},
   "outputs": [],
   "source": [
    "#basic imports\n",
    "import numpy as np\n",
    "import re\n",
    "from sklearn.model_selection import cross_val_score\n",
    "from sklearn.metrics import accuracy_score"
   ]
  },
  {
   "cell_type": "code",
   "execution_count": null,
   "metadata": {},
   "outputs": [],
   "source": [
    "#load the datasets as numpy arrays\n",
    "TrainImages=np.empty([3823,64])\n",
    "TestImages=np.empty([1797,64])\n",
    "\n",
    "#load TrainImages\n",
    "fileTrainImages = open(\"Digits/TrainImages\", \"r\")\n",
    "lineIndex=0\n",
    "for line in fileTrainImages:\n",
    "    clearedLine=re.split(r'[\\s,]+', line)\n",
    "    clearedLine=clearedLine[1:]\n",
    "    clearedLine=clearedLine[:-1]\n",
    "    for i in range (0,64):\n",
    "        TrainImages[lineIndex][i]=float(clearedLine[i])\n",
    "    lineIndex=lineIndex+1\n",
    "print TrainImages\n",
    "print TrainImages.shape\n",
    "\n",
    "#load TrainLabels\n",
    "fileTrainLabels = open(\"Digits/TrainLabels\", \"r\")\n",
    "TrainLabelsTmpList=[]\n",
    "for line in fileTrainLabels:\n",
    "    TrainLabelsTmpList.append(float(line))\n",
    "TrainLabels=np.array(TrainLabelsTmpList)\n",
    "print TrainLabels\n",
    "print TrainLabels.shape\n",
    "\n",
    "#load TestImages\n",
    "fileTestImages = open(\"Digits/TestImages\", \"r\")\n",
    "lineIndex=0\n",
    "for line in fileTestImages:\n",
    "    clearedLine=re.split(r'[\\s,]+', line)\n",
    "    clearedLine=clearedLine[1:]\n",
    "    clearedLine=clearedLine[:-1]\n",
    "    for i in range (0,64):\n",
    "        TestImages[lineIndex][i]=float(clearedLine[i])\n",
    "    lineIndex=lineIndex+1\n",
    "print TestImages\n",
    "print TestImages.shape\n",
    "\n",
    "#load TestLabels\n",
    "fileTestLabels = open(\"Digits/TestLabels\", \"r\")\n",
    "TestLabelsTmpList=[]\n",
    "for line in fileTestLabels:\n",
    "    TestLabelsTmpList.append(float(line))\n",
    "TestLabels=np.array(TestLabelsTmpList)\n",
    "print TestLabels\n",
    "print TestLabels.shape"
   ]
  },
  {
   "cell_type": "code",
   "execution_count": null,
   "metadata": {},
   "outputs": [],
   "source": [
    "#multiclass SVM linear\n",
    "from sklearn import svm\n",
    "\n",
    "svmLinear = svm.SVC(kernel=\"linear\", C=1.0, tol=0.001, max_iter=-1, decision_function_shape = \"ovo\")\n",
    "scores = cross_val_score(svmLinear, TrainImages, TrainLabels, cv=10)\n",
    "print \"10foldCVMeanScore = \"+str(scores.mean())\n",
    "svmLinear.fit(TrainImages, TrainLabels)\n",
    "predictedLabels=svmLinear.predict(TestImages)\n",
    "\n",
    "print \"prediction accuracy = \"+str(accuracy_score(TestLabels, predictedLabels))"
   ]
  },
  {
   "cell_type": "code",
   "execution_count": null,
   "metadata": {},
   "outputs": [],
   "source": [
    "#multiclass SVM rbf kernel\n",
    "from sklearn import svm\n",
    "\n",
    "svmRBF = svm.SVC(kernel=\"rbf\", gamma=\"scale\", C=1.0, tol=0.001, max_iter=-1, decision_function_shape = \"ovo\")\n",
    "scores = cross_val_score(svmRBF, TrainImages, TrainLabels, cv=10)\n",
    "print \"10foldCVMeanScore = \"+str(scores.mean())\n",
    "svmRBF.fit(TrainImages, TrainLabels)\n",
    "predictedLabels=svmRBF.predict(TestImages)\n",
    "\n",
    "print \"prediction accuracy = \"+str(accuracy_score(TestLabels, predictedLabels))"
   ]
  },
  {
   "cell_type": "code",
   "execution_count": null,
   "metadata": {},
   "outputs": [],
   "source": [
    "#mlp with 1 hidden layer\n",
    "from sklearn.neural_network import MLPClassifier\n",
    "\n",
    "mlp = MLPClassifier(hidden_layer_sizes=(10,),solver='lbfgs', activation='identity')\n",
    "scores = cross_val_score(mlp, TrainImages, TrainLabels, cv=10)\n",
    "print \"10foldCVMeanScore = \"+str(scores.mean())\n",
    "mlp.fit(TrainImages, TrainLabels)\n",
    "predictedLabels=mlp.predict(TestImages)\n",
    "\n",
    "print \"prediction accuracy = \"+str(accuracy_score(TestLabels, predictedLabels))\n"
   ]
  }
 ],
 "metadata": {
  "kernelspec": {
   "display_name": "Python 2",
   "language": "python",
   "name": "python2"
  },
  "language_info": {
   "codemirror_mode": {
    "name": "ipython",
    "version": 2
   },
   "file_extension": ".py",
   "mimetype": "text/x-python",
   "name": "python",
   "nbconvert_exporter": "python",
   "pygments_lexer": "ipython2",
   "version": "2.7.15"
  }
 },
 "nbformat": 4,
 "nbformat_minor": 2
}
